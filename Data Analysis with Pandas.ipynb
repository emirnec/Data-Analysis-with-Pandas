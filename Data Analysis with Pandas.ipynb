{
 "cells": [
  {
   "attachments": {},
   "cell_type": "markdown",
   "metadata": {},
   "source": [
    "# Data Analysis with Pandas - Problem Set\n",
    "\n",
    "\n",
    "#### Reading in Data\n",
    "\n",
    "\n",
    "1. Read in the comma-separated file \"client_list.csv\". Assign as variable `df1`.\n",
    "2. Read in the delimted file \"client_list.table\". Assign as variable as `df2`.\n",
    "3. Read in the fixed-width file \"client_list.txt\". Assign as variable `df3`\n",
    "4. Read in the comma-separated file \"client_list.csv\", skip the first 3 rows, and ignore the header. Do not assign to variable (just return a view).\n",
    "5. Read in the comma-separated file \"client_list.csv\". Set the column headers in all caps. Assign as variable `df`.\n",
    "6. Read in the comma-separated file \"client_list_practice.csv\" and only extract the columns [\"FIRST_NAME\",\"AGE\",\"EYE_COLOR\"]. Do not assign to a variable.\n",
    "\n",
    "\n",
    "\n",
    "\n"
   ]
  },
  {
   "cell_type": "markdown",
   "metadata": {},
   "source": [
    "#### Slicing a Data Set\n",
    "\n",
    "7. Slice rows 5 through 11 of `df`. Can you provide two ways of doing this?\n",
    "8. Return only the columns ['LAST_NAME','AGE','HAIR_COLOR'] for `df`. Can you provide two ways of doing this?\n",
    "9. Combine problems 1 and 2: return rows 5 though 11 and columns  ['LAST_NAME','AGE','HAIR_COLOR'] for `df`. Can you provide two ways of doing this?\n",
    "\n",
    "\n"
   ]
  },
  {
   "cell_type": "markdown",
   "metadata": {},
   "source": [
    "#### Simple Queries\n",
    "\n",
    "10. Find the subset of `df` where the client's last name is \"Smith\".\n",
    "11. Find the subset of `df` where the client's hair color is not black.\n",
    "12. Find the subset of `df` where the client's hair color is red and reset the values to \"ginger\".\n",
    "\n",
    "\n"
   ]
  },
  {
   "cell_type": "markdown",
   "metadata": {},
   "source": [
    "#### Complex Queries\n",
    "\n",
    "13. Find the subset of `df` where the clients are females older than 30 years.\n",
    "14. Repeat problem 1, but return only the hair color and eye color.\n",
    "15. Find the unique combination of hair and eye color for women older than 25 years.\n",
    "\n"
   ]
  },
  {
   "cell_type": "markdown",
   "metadata": {},
   "source": [
    "\n",
    "#### Additional Dataframe Operations\n",
    "\n",
    "16. Perform a `merge` using \"client_list.csv\" and \"customer_id_list.csv\". Assign the resulting dataframe as `clients`.\n",
    "17. Perform a `merge` using `clients` and \"purchase_log.csv\" and limit the subset to only clients who made purchases. Assign the resulting dataframe as `detailed_sales`.\n",
    "18. Use `groupby` to find the client who spent the most money on purchases. Determine how much he/she spent. HINT: save the intermediate dataframe from using `groupby` as `spenders` before applying slicing to determine the client who spent the most money on purchases.\n",
    "19. (BONUS) Modify the answer to problem 3 slightly to determine exactly what items where purchased by the top spending client."
   ]
  },
  {
   "cell_type": "markdown",
   "metadata": {
    "collapsed": true
   },
   "source": [
    "#### Writing Files\n",
    "\n",
    "20. Save `detailed_sales` as a csv file named \"df_out.csv\" with no indices.\n",
    "21. Save `detailed_sales` to a pickle file named \"df_out.p\""
   ]
  },
  {
   "cell_type": "code",
   "execution_count": 210,
   "metadata": {
    "collapsed": true
   },
   "outputs": [
    {
     "name": "stderr",
     "output_type": "stream",
     "text": [
      "C:\\Users\\Tarantipantos\\AppData\\Local\\Temp\\ipykernel_22668\\174763133.py:17: SettingWithCopyWarning: \n",
      "A value is trying to be set on a copy of a slice from a DataFrame.\n",
      "Try using .loc[row_indexer,col_indexer] = value instead\n",
      "\n",
      "See the caveats in the documentation: https://pandas.pydata.org/pandas-docs/stable/user_guide/indexing.html#returning-a-view-versus-a-copy\n",
      "  df_haircolor2['HAIR_COLOR'] = 'ginger'\n"
     ]
    }
   ],
   "source": [
    "import pandas as pd\n",
    "df1=pd.read_csv(\"client_list.csv\") #1\n",
    "\n",
    "df2=pd.read_table(\"client_list.table\") #2\n",
    "\n",
    "df3=pd.read_fwf(\"client_list.txt\") #3\n",
    "\n",
    "pd.read_csv(\"client_list.csv\", skiprows=[1,2,3], header=None) #4\n",
    "\n",
    "df=pd.read_csv(\"client_list.csv\") #5\n",
    "df.columns = df.columns.str.upper() #5\n",
    "\n",
    "pd.read_csv(\"client_list_practice.csv\",usecols=[\"FIRST_NAME\",\"AGE\",\"EYE_COLOR\"]) #6\n",
    "sliced_df = df.iloc[5:12]\n",
    "sliced_df_2 = df.loc[5:11]\n",
    "df_cols1 = df[['LAST_NAME', 'AGE', 'HAIR_COLOR']]\n",
    "df_cols2 = df.loc[:, ['LAST_NAME', 'AGE', 'HAIR_COLOR']]\n",
    "df_colrow=df.loc[5:11,['LAST_NAME', 'AGE', 'HAIR_COLOR']]\n",
    "df_smith = df[df['LAST_NAME'] == 'Smith']\n",
    "df_haircolor = df[df['HAIR_COLOR'] != 'black']\n",
    "df_haircolor2= df[df['HAIR_COLOR'] == 'red']\n",
    "df_haircolor2['HAIR_COLOR'] = 'ginger'\n",
    "df_genage=df[(df['GENDER']=='F')&(df['AGE'] >30)]\n",
    "df_haireye=df_genage.loc[:,['HAIR_COLOR','EYE_COLOR']]\n",
    "df_haireye_women=df[(df['GENDER']=='F')&(df['AGE'] >25)]\n",
    "df_unique=df_haireye_women[['HAIR_COLOR','EYE_COLOR']].drop_duplicates()\n",
    "\n",
    "\n",
    "df1=pd.read_csv(\"client_list.csv\") \n",
    "df1.columns = df1.columns.str.upper() \n",
    "df4=pd.read_csv('customer_id_list.csv')\n",
    "df4.columns = df4.columns.str.upper() \n",
    "clients=df1.merge(df4).drop_duplicates()\n",
    "\n",
    "df5=pd.read_csv('purchase_log.csv')\n",
    "\n",
    "detailed_sales = df5.merge(clients)\n",
    "\n",
    "df_sales = detailed_sales[detailed_sales['FIRST_NAME'] == 'Michael']\n",
    "items_purchased_by_michael = df_sales['ITEM_DESCRIPTION']\n",
    "\n",
    "detailed_sales.to_csv('df_out.csv', index=False)\n",
    "detailed_sales.to_pickle('df_out.p')\n",
    "\n",
    "\n",
    "\n",
    "\n",
    "\n"
   ]
  }
 ],
 "metadata": {
  "anaconda-cloud": {},
  "kernelspec": {
   "display_name": "Python 3",
   "language": "python",
   "name": "python3"
  },
  "language_info": {
   "codemirror_mode": {
    "name": "ipython",
    "version": 2
   },
   "file_extension": ".py",
   "mimetype": "text/x-python",
   "name": "python",
   "nbconvert_exporter": "python",
   "pygments_lexer": "ipython2",
   "version": "3.11.1"
  }
 },
 "nbformat": 4,
 "nbformat_minor": 1
}
